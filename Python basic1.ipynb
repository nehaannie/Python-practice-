{
 "cells": [
  {
   "cell_type": "markdown",
   "id": "a17045bf",
   "metadata": {},
   "source": [
    "## Print prime numbers between 100 and 200"
   ]
  },
  {
   "cell_type": "code",
   "execution_count": 11,
   "id": "34507866",
   "metadata": {},
   "outputs": [
    {
     "name": "stdout",
     "output_type": "stream",
     "text": [
      "101\n",
      "103\n",
      "107\n",
      "109\n",
      "113\n",
      "127\n",
      "131\n",
      "137\n",
      "139\n",
      "149\n",
      "151\n",
      "157\n",
      "163\n",
      "167\n",
      "173\n",
      "179\n",
      "181\n",
      "191\n",
      "193\n",
      "197\n",
      "199\n"
     ]
    }
   ],
   "source": [
    "\n",
    "\n",
    "def isprime(n):\n",
    "    if (n<2):\n",
    "        return False\n",
    "    for i in range (2,int(n**0.5)+1):\n",
    "        if(n%i==0):\n",
    "            return False\n",
    "    return True\n",
    "\n",
    "for i in range(100,201):\n",
    "    if(isprime(i)):\n",
    "        print(i)\n",
    "    "
   ]
  },
  {
   "cell_type": "markdown",
   "id": "37b22477",
   "metadata": {},
   "source": [
    "\n",
    "By limiting the range to 2 through sqrt(n), we avoid unnecessary checks and improve the performance of the algorithm, especially for large numbers.\n"
   ]
  },
  {
   "cell_type": "markdown",
   "id": "ba8ff1aa",
   "metadata": {},
   "source": [
    "## Sort functon to sort elements"
   ]
  },
  {
   "cell_type": "code",
   "execution_count": 14,
   "id": "b146fdc9",
   "metadata": {},
   "outputs": [
    {
     "name": "stdout",
     "output_type": "stream",
     "text": [
      "[1, 2, 2, 3, 3, 4, 4, 5, 5, 5, 5, 7, 66, 98]\n"
     ]
    }
   ],
   "source": [
    "a=[1,5,3,7,4,2,5,2,3,4,5,66,5,98]\n",
    "a.sort()\n",
    "print(a)"
   ]
  },
  {
   "cell_type": "code",
   "execution_count": 16,
   "id": "96856751",
   "metadata": {},
   "outputs": [
    {
     "data": {
      "text/plain": [
       "[98, 66, 7, 5, 5, 5, 5, 4, 4, 3, 3, 2, 2, 1]"
      ]
     },
     "execution_count": 16,
     "metadata": {},
     "output_type": "execute_result"
    }
   ],
   "source": [
    "#in descending order\n",
    "\n",
    "a.sort(reverse=True)\n",
    "a"
   ]
  },
  {
   "cell_type": "markdown",
   "id": "8bae49f8",
   "metadata": {},
   "source": [
    "## Sort function without sort function"
   ]
  },
  {
   "cell_type": "code",
   "execution_count": 27,
   "id": "e0ae37dd",
   "metadata": {},
   "outputs": [],
   "source": [
    "a=[2,43,5,65,33,44,77,77,55,32]\n",
    "b=[]"
   ]
  },
  {
   "cell_type": "code",
   "execution_count": 28,
   "id": "aa73e8cb",
   "metadata": {},
   "outputs": [
    {
     "name": "stdout",
     "output_type": "stream",
     "text": [
      "[]\n",
      "[2, 5, 32, 33, 43, 44, 55, 65, 77, 77]\n"
     ]
    }
   ],
   "source": [
    "while a:\n",
    "    min=a[0]\n",
    "    for x in a:\n",
    "        if x<min:\n",
    "            min=x\n",
    "    b.append(min)\n",
    "    a.remove(min)\n",
    "\n",
    "print(a)    \n",
    "print(b)"
   ]
  },
  {
   "cell_type": "markdown",
   "id": "7ebcfe14",
   "metadata": {},
   "source": [
    "## Python to create Fibonacci series"
   ]
  },
  {
   "cell_type": "code",
   "execution_count": 31,
   "id": "425dcea0",
   "metadata": {},
   "outputs": [
    {
     "name": "stdout",
     "output_type": "stream",
     "text": [
      "1\n",
      "1\n",
      "2\n",
      "3\n",
      "5\n",
      "8\n",
      "13\n",
      "21\n",
      "34\n",
      "55\n",
      "89\n",
      "144\n",
      "233\n",
      "377\n",
      "610\n",
      "987\n",
      "1597\n",
      "2584\n",
      "4181\n"
     ]
    }
   ],
   "source": [
    "def fib(n):\n",
    "    if(n==0):\n",
    "        return 0\n",
    "    elif(n==1):\n",
    "        return 1\n",
    "    else:\n",
    "        return fib(n-1)+fib(n-2);\n",
    "    \n",
    "for i in range(1,20):\n",
    "    print(fib(i))\n",
    "    "
   ]
  },
  {
   "cell_type": "markdown",
   "id": "3603e1c9",
   "metadata": {},
   "source": [
    "elif is used not else if"
   ]
  },
  {
   "cell_type": "markdown",
   "id": "577f7267",
   "metadata": {},
   "source": [
    "## Print a list in reverse"
   ]
  },
  {
   "cell_type": "code",
   "execution_count": 34,
   "id": "33cdf028",
   "metadata": {},
   "outputs": [],
   "source": [
    "a=[2,43,5,65,33,44,77,77,55,32]"
   ]
  },
  {
   "cell_type": "code",
   "execution_count": 35,
   "id": "9e07ba53",
   "metadata": {},
   "outputs": [
    {
     "data": {
      "text/plain": [
       "[32, 55, 77, 77, 44, 33, 65, 5, 43, 2]"
      ]
     },
     "execution_count": 35,
     "metadata": {},
     "output_type": "execute_result"
    }
   ],
   "source": [
    "a[::-1]"
   ]
  },
  {
   "cell_type": "markdown",
   "id": "095e763f",
   "metadata": {},
   "source": [
    "## Compress string"
   ]
  },
  {
   "cell_type": "markdown",
   "id": "5de4ba77",
   "metadata": {},
   "source": [
    "Input: \"aaabccddd\"\n",
    "\n",
    "Output: \"a3b1c2d3\""
   ]
  },
  {
   "cell_type": "code",
   "execution_count": 39,
   "id": "61677d4a",
   "metadata": {},
   "outputs": [],
   "source": [
    "s=\"aaabccddd\""
   ]
  },
  {
   "cell_type": "code",
   "execution_count": 40,
   "id": "d3f68f62",
   "metadata": {},
   "outputs": [],
   "source": [
    "def compress(s):\n",
    "    count=1\n",
    "    compressed=[]\n",
    "    \n",
    "    for i in range(1,len(s)):\n",
    "        if s[i]==s[i-1]:\n",
    "            count+=1\n",
    "        else:\n",
    "            compressed.append(s[i-1]+str(count))\n",
    "            \n",
    "    return ''.join(compressed)"
   ]
  },
  {
   "cell_type": "code",
   "execution_count": 42,
   "id": "b6587821",
   "metadata": {},
   "outputs": [
    {
     "data": {
      "text/plain": [
       "'a3b3c4'"
      ]
     },
     "execution_count": 42,
     "metadata": {},
     "output_type": "execute_result"
    }
   ],
   "source": [
    "compress(s)"
   ]
  },
  {
   "cell_type": "markdown",
   "id": "5ea5f104",
   "metadata": {},
   "source": [
    "## Check for palindrome"
   ]
  },
  {
   "cell_type": "code",
   "execution_count": 46,
   "id": "996708bf",
   "metadata": {},
   "outputs": [
    {
     "name": "stdout",
     "output_type": "stream",
     "text": [
      "malayalam\n"
     ]
    }
   ],
   "source": [
    "str1=\"malayalam\"\n",
    "str2=\"hello\""
   ]
  },
  {
   "cell_type": "code",
   "execution_count": 47,
   "id": "08ab915f",
   "metadata": {},
   "outputs": [],
   "source": [
    "def ispalindrome(s):\n",
    "    rev=''.join(reversed(s));\n",
    "    \n",
    "    if(rev==s):\n",
    "        return True\n",
    "    else:\n",
    "        return False"
   ]
  },
  {
   "cell_type": "markdown",
   "id": "49e2ca44",
   "metadata": {},
   "source": [
    "Explanation: The reversed() function returns an iterator (not a string) that goes through the characters in reverse order.\n",
    "\n",
    "\n",
    "Using ''.join(reversed(str1)), you're converting this iterator into a string by joining all the reversed characters together into one string, which is why it works."
   ]
  },
  {
   "cell_type": "code",
   "execution_count": 49,
   "id": "90eeb094",
   "metadata": {},
   "outputs": [
    {
     "name": "stdout",
     "output_type": "stream",
     "text": [
      "True\n",
      "False\n"
     ]
    }
   ],
   "source": [
    "print(ispalindrome(str1))\n",
    "print(ispalindrome(str2))"
   ]
  },
  {
   "cell_type": "markdown",
   "id": "9d29eff2",
   "metadata": {},
   "source": [
    "## Print set of duplicates in a list"
   ]
  },
  {
   "cell_type": "code",
   "execution_count": 50,
   "id": "85a04def",
   "metadata": {},
   "outputs": [],
   "source": [
    "a=[1,2,3,4,5,1,2,6,8,9]"
   ]
  },
  {
   "cell_type": "code",
   "execution_count": 53,
   "id": "16745662",
   "metadata": {},
   "outputs": [
    {
     "name": "stdout",
     "output_type": "stream",
     "text": [
      "{1, 2}\n"
     ]
    }
   ],
   "source": [
    "print(set([x for x in a if a.count(x)>1]))"
   ]
  },
  {
   "cell_type": "markdown",
   "id": "3294d294",
   "metadata": {},
   "source": [
    "## Number of words in sentence"
   ]
  },
  {
   "cell_type": "code",
   "execution_count": 54,
   "id": "91c241a8",
   "metadata": {},
   "outputs": [
    {
     "name": "stdout",
     "output_type": "stream",
     "text": [
      "8\n"
     ]
    }
   ],
   "source": [
    "string=\"Hi how are you .How do you do?\"\n",
    "print(len(string.split()))"
   ]
  },
  {
   "cell_type": "markdown",
   "id": "b85199b5",
   "metadata": {},
   "source": [
    "## Search an element"
   ]
  },
  {
   "cell_type": "code",
   "execution_count": 56,
   "id": "90e37506",
   "metadata": {},
   "outputs": [],
   "source": [
    "a=[1,2,3,4,5,6,7,8]"
   ]
  },
  {
   "cell_type": "code",
   "execution_count": 60,
   "id": "423aa3db",
   "metadata": {},
   "outputs": [],
   "source": [
    "def search(a,n):\n",
    "    for i in range(len(a)):\n",
    "        if a[i]==n:\n",
    "            return i\n",
    "    return print(\"Number not found\"); "
   ]
  },
  {
   "cell_type": "code",
   "execution_count": 61,
   "id": "f14e7de1",
   "metadata": {},
   "outputs": [
    {
     "data": {
      "text/plain": [
       "6"
      ]
     },
     "execution_count": 61,
     "metadata": {},
     "output_type": "execute_result"
    }
   ],
   "source": [
    "search(a,7)"
   ]
  },
  {
   "cell_type": "markdown",
   "id": "15821708",
   "metadata": {},
   "source": [
    "## Python program in Binary Search"
   ]
  },
  {
   "cell_type": "code",
   "execution_count": 91,
   "id": "c2e4fcfa",
   "metadata": {},
   "outputs": [],
   "source": [
    "def binary(a,target):\n",
    "    lower=0\n",
    "    upper=len(a)-1\n",
    "    \n",
    "    while(lower<=upper):\n",
    "        x=lower+(upper-lower)//2\n",
    "        val=a[x]\n",
    "        \n",
    "        if target==val:\n",
    "            return x\n",
    "        elif target>val:\n",
    "            lower=x+1\n",
    "        elif target<val:\n",
    "            upper=x-1\n",
    "    return -1"
   ]
  },
  {
   "cell_type": "code",
   "execution_count": 92,
   "id": "7e86325c",
   "metadata": {},
   "outputs": [],
   "source": [
    "a=[1,2,3,4,5,6,7,8]"
   ]
  },
  {
   "cell_type": "code",
   "execution_count": 93,
   "id": "7fa25698",
   "metadata": {},
   "outputs": [
    {
     "data": {
      "text/plain": [
       "7"
      ]
     },
     "execution_count": 93,
     "metadata": {},
     "output_type": "execute_result"
    }
   ],
   "source": [
    "binary(a,8)"
   ]
  },
  {
   "cell_type": "markdown",
   "id": "55ec4817",
   "metadata": {},
   "source": [
    "## To plot a simple bar chart"
   ]
  },
  {
   "cell_type": "code",
   "execution_count": 95,
   "id": "55f6f2d4",
   "metadata": {},
   "outputs": [],
   "source": [
    "import pandas as pd\n",
    "import matplotlib.pyplot as plt"
   ]
  },
  {
   "cell_type": "code",
   "execution_count": 104,
   "id": "9c808883",
   "metadata": {},
   "outputs": [],
   "source": [
    "#2d array\n",
    "data=[\n",
    "    ['E001','Neha',27,130,'Healthy'],\n",
    "    ['E002','Raj',28,60,'Obese'],\n",
    "    ['E003','Harsh',37,70,'Healthy'],\n",
    "    ['E004','Joy',30,50,'Obese'],\n",
    "    ['E005','Len',56,140,'Healthy'],\n",
    "    ['E006','Venz',45,120,'Healthy']\n",
    "     ]"
   ]
  },
  {
   "cell_type": "code",
   "execution_count": 105,
   "id": "81451749",
   "metadata": {},
   "outputs": [],
   "source": [
    "df=pd.DataFrame(data,columns=['Patient No','Name','Age','Glucose','Status'])"
   ]
  },
  {
   "cell_type": "code",
   "execution_count": 106,
   "id": "eb98a159",
   "metadata": {},
   "outputs": [
    {
     "data": {
      "image/png": "[encoded data removed]",
      "text/plain": [
       "<Figure size 640x480 with 1 Axes>"
      ]
     },
     "metadata": {},
     "output_type": "display_data"
    }
   ],
   "source": [
    "plt.bar(df['Age'],df['Glucose'])\n",
    "plt.xlabel('Age')\n",
    "plt.ylabel('Glucose')\n",
    "plt.show()"
   ]
  },
  {
   "cell_type": "markdown",
   "id": "a97cb83e",
   "metadata": {},
   "source": [
    "## To join two strings"
   ]
  },
  {
   "cell_type": "code",
   "execution_count": 107,
   "id": "d1e2b295",
   "metadata": {},
   "outputs": [
    {
     "name": "stdout",
     "output_type": "stream",
     "text": [
      "Hello World\n"
     ]
    }
   ],
   "source": [
    "s1=\"Hello\"\n",
    "s2=\"World\"\n",
    "\n",
    "s=s1+' '+s2\n",
    "\n",
    "print(s)"
   ]
  },
  {
   "cell_type": "code",
   "execution_count": 112,
   "id": "2a4643d8",
   "metadata": {},
   "outputs": [
    {
     "name": "stdout",
     "output_type": "stream",
     "text": [
      "Hello World\n"
     ]
    }
   ],
   "source": [
    "ss=' '.join([s1, s2])\n",
    "print(ss)"
   ]
  },
  {
   "cell_type": "markdown",
   "id": "d9eb53e4",
   "metadata": {},
   "source": [
    "Notice the space in ' ' in case you want space in between words"
   ]
  },
  {
   "cell_type": "markdown",
   "id": "712499e1",
   "metadata": {},
   "source": [
    "## To extract digits from strings"
   ]
  },
  {
   "cell_type": "code",
   "execution_count": 119,
   "id": "663c1581",
   "metadata": {},
   "outputs": [],
   "source": [
    "string=\"H2g4ghdt56bdb5\""
   ]
  },
  {
   "cell_type": "code",
   "execution_count": 121,
   "id": "aa3c592c",
   "metadata": {},
   "outputs": [
    {
     "name": "stdout",
     "output_type": "stream",
     "text": [
      "['2', '4', '5', '6', '5']\n"
     ]
    }
   ],
   "source": [
    "set1=[]\n",
    "for i in string:\n",
    "    if '1'<=i<='9':\n",
    "        set1.append(i);\n",
    "\n",
    "print(set1)\n",
    "        "
   ]
  },
  {
   "cell_type": "markdown",
   "id": "fcd4fa47",
   "metadata": {},
   "source": [
    "## To split using new line delimiter "
   ]
  },
  {
   "cell_type": "code",
   "execution_count": 128,
   "id": "5088fbb5",
   "metadata": {},
   "outputs": [],
   "source": [
    "string = \"\"\"Hello, World!\n",
    "Welcome to Python programming.\n",
    "Let's learn how to split strings.\n",
    "Have a great day!\"\"\""
   ]
  },
  {
   "cell_type": "code",
   "execution_count": 130,
   "id": "6ad5bff0",
   "metadata": {},
   "outputs": [],
   "source": [
    "lines=string.split(\"\\n\")"
   ]
  },
  {
   "cell_type": "code",
   "execution_count": 131,
   "id": "321504ce",
   "metadata": {},
   "outputs": [
    {
     "name": "stdout",
     "output_type": "stream",
     "text": [
      "Hello, World!\n",
      "Welcome to Python programming.\n",
      "Let's learn how to split strings.\n",
      "Have a great day!\n"
     ]
    }
   ],
   "source": [
    "for line in lines:\n",
    "    print(line)"
   ]
  },
  {
   "cell_type": "markdown",
   "id": "3fe36bec",
   "metadata": {},
   "source": [
    "## Given string in input, delete in reoccuring character and return a new string"
   ]
  },
  {
   "cell_type": "code",
   "execution_count": 132,
   "id": "db5939e5",
   "metadata": {},
   "outputs": [],
   "source": [
    "def remove_recurring_characters(input_string):\n",
    "    seen = set()  # To keep track of characters that have already been seen\n",
    "    result = []   # To store the final characters\n",
    "\n",
    "    for char in input_string:\n",
    "        if char not in seen:  # If the character hasn't been seen before\n",
    "            seen.add(char)     # Mark it as seen\n",
    "            result.append(char) # Add it to the result\n",
    "\n",
    "    return ''.join(result)"
   ]
  },
  {
   "cell_type": "code",
   "execution_count": 134,
   "id": "c1e00d7f",
   "metadata": {},
   "outputs": [
    {
     "name": "stdout",
     "output_type": "stream",
     "text": [
      "Helo hwaryu\n"
     ]
    }
   ],
   "source": [
    "input_string=\"Hello how are you\"\n",
    "new_string = remove_recurring_characters(input_string)\n",
    "print(new_string)\n"
   ]
  }
 ],
 "metadata": {
  "kernelspec": {
   "display_name": "Python 3 (ipykernel)",
   "language": "python",
   "name": "python3"
  },
  "language_info": {
   "codemirror_mode": {
    "name": "ipython",
    "version": 3
   },
   "file_extension": ".py",
   "mimetype": "text/x-python",
   "name": "python",
   "nbconvert_exporter": "python",
   "pygments_lexer": "ipython3",
   "version": "3.9.12"
  }
 },
 "nbformat": 4,
 "nbformat_minor": 5
}
